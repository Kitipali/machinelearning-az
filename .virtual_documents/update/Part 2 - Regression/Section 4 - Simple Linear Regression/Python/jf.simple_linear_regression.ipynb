








import numpy as np
import matplotlib.pyplot as plt
import pandas as pd





dataset = pd.read_csv('Salary_Data.csv') # está en la misma carpeta que este script
X = dataset.iloc[:, :-1].values # todas las columnas excepto la última
y = dataset.iloc[:, -1].values # la última columna


dataset.head()





from sklearn.model_selection import train_test_split
X_train, X_test, y_train, y_test = train_test_split(X, y, test_size = 1/3, random_state = 0)





from sklearn.linear_model import LinearRegression
regression = LinearRegression()
regression.fit(X_train, y_train)





y_pred = regression.predict(X_test) # ponemos la variable independiente de Test (X_test)


y_pred








plt.scatter(X_train, y_train, color = 'red')
plt.plot(X_train, regressor.predict(X_train), color = 'blue')
plt.title('Salary vs Experience (Training set)')
plt.xlabel('Years of Experience')
plt.ylabel('Salary')
plt.show()





plt.scatter(X_test, y_test, color = 'red')
plt.plot(X_train, regressor.predict(X_train), color = 'blue')
plt.title('Salary vs Experience (Test set)')
plt.xlabel('Years of Experience')
plt.ylabel('Salary')
plt.show()



