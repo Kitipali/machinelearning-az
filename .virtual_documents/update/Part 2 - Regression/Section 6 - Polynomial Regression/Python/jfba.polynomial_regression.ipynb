





import numpy as np
import matplotlib.pyplot as plt
import pandas as pd





dataset = pd.read_csv('Position_Salaries.csv')
X = dataset.iloc[:, 1:-1].values # en este caso es lo mismo que dataset.iloc[:, 1].values *pero* lo dejamos así para que sea una matriz (2D) y no un vector (1D).
# La matriz de características siempre necesita una "matriz"
y = dataset.iloc[:, -1].values # en este caso es lo mismo que dataset.iloc[:, 2].values


dataset.head()








from sklearn.linear_model import LinearRegression
lin_reg = LinearRegression()
lin_reg.fit(X, y) # Toda la X








from sklearn.preprocessing import PolynomialFeatures
poly_reg = PolynomialFeatures(degree = 4) # por defecto degree=2 (grado del polinomio)
X_poly = poly_reg.fit_transform(X) # 1º hacemos la Transformación polinómica
lin_reg_2 = LinearRegression()
lin_reg_2.fit(X_poly, y) # aplicamos la regresión lineal sobre la transformación polinómica





plt.scatter(X, y, color = 'red')
plt.plot(X, lin_reg.predict(X), color = 'blue')
plt.title('Truth or Bluff (Modelo de Regresión Lineal)')
plt.xlabel('Posición del empleado')
plt.ylabel('Sueldo (en $)')
plt.show()








plt.scatter(X, y, color = 'red')
plt.plot(X, lin_reg_2.predict(poly_reg.fit_transform(X)), color = 'blue') # podría haber puesto X_poly
plt.title('Truth or Bluff (Regresión Polinómica)')
plt.xlabel('Posición del empleado')
plt.ylabel('Salario')
plt.show()





X_grid = np.arange(min(X), max(X), 0.1) # crea secuencia entre el mínimo y máximo con el salto indicado
X_grid = X_grid.reshape((len(X_grid), 1)) #como estaba en vector fila. redimensionamos a vector columna: 1 columna sy filas con el tamñao de X_grid
                                          # Antes "shape" estaba como (90,) y ahora como (90,1)
plt.scatter(X, y, color = 'red')
plt.plot(X_grid, lin_reg_2.predict(poly_reg.fit_transform(X_grid)), color = 'blue')
plt.title('Truth or Bluff (Regresión polinómica con mejor resolución)')
plt.xlabel('Posición del empleado')
plt.ylabel('Sueldo')
plt.show()





lin_reg.predict([[6.5]])





lin_reg_2.predict(poly_reg.fit_transform([[6.5]]))
