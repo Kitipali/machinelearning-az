


# Cómo importar las librerías
import numpy as np
import matplotlib.pyplot as  plt
import pandas as pd


# Importar el data set
%cd "D:\Repos Github\machinelearning-az\update\Part 1 - Data Preprocessing\Section 2 -------------------- Part 1 - Data Preprocessing --------------------/Python"
dataset = pd.read_csv('Data.csv')


dataset.head()



#Variable independiente = columnas Country + Age+ Salary 
#Variable dependiente = columna Purchased
X = dataset.iloc[:,:-1].values 
#Todas las filas y todas las columnas salvo la última
#.values porque queremos extraer los valores, no las posiciones



y= dataset.iloc[:,3].values #Selecciona tercera columna 


# Tratamiento de los NAs
from sklearn.impute import SimpleImputer #Como no queremos toda la librería sino sólo una parte. Imputer calcula los datos faltantes (NAs
# Ahora creamos un objeto de esta clase (Imputer)
imputer = SimpleImputer(missing_values=np.nan,strategy="mean") #missing_values=np.nan puedo no ponerlo
#strategy -> cómo voy a sustituir los valores desconocidos. En este caso media
imputer.fit(X[:, 1:3])  # Aplicamos el ajuste a las columnas 1 y 2 (índices 1:3 porque el último no lo coge)
X[:, 1:3] = imputer.transform(X[:, 1:3])  # Reemplazamos los valores nulos en las columnas seleccionadas. Tb vale imputer.fit_transform
print("Datos de X después de manejar valores faltantes:")
print(X)


# Codifcar datos categóricos
from sklearn.compose import ColumnTransformer
from sklearn.preprocessing import OneHotEncoder


#Aplicamos OneHotEncoder a primera columna (0)
ct = ColumnTransformer(
    transformers=[('encoder', OneHotEncoder(),[0])],
    remainder='passthrough'
)
#ColumnTransformer([...], remainder='passthrough')
# significa Aplica distintos transformadores a columnas concretas y decide qué hacer con el resto:
#La lista transformers=[('encoder', OneHotEncoder(), [0])] 
# dice: “aplica el OneHotEncoder a la columna 0”
# remainder='passthrough' significa: las demás columnas se mantienen sin tocar
X=np.array(ct.fit_transform(X))
# fit: el encoder aprende qué categorías existen y en qué orden.
# transform: genera la matriz codificada y concatena las columnas restantes.
# Transformamos X y lo convertimos a un array de NumPy
print("Datos de X después de la codificación OneHot:")
print(X)


# Codificación de la variable dependiente (y)
from sklearn.preprocessing import LabelEncoder
le = LabelEncoder()
y = le.fit_transform(y)  # Transformamos las etiquetas categóricas en valores numéricos
print("Datos de y después de la codificación:")
print(y)



