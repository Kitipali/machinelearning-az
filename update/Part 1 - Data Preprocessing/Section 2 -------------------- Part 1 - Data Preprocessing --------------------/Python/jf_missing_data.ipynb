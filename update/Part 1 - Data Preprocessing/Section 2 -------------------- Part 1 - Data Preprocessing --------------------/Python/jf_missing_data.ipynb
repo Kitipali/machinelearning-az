{
 "cells": [
  {
   "cell_type": "markdown",
   "id": "ce48952e-49d4-4db5-92d6-9237de86ad18",
   "metadata": {},
   "source": [
    "Plantilla de PreProcesado - Datos faltantes"
   ]
  },
  {
   "cell_type": "code",
   "execution_count": null,
   "id": "0e383b0b-29bd-432b-84c4-f9a521b08e49",
   "metadata": {},
   "outputs": [],
   "source": [
    "# Cómo importar las librerías\n",
    "import numpy as np\n",
    "import matplotlib.pyplot as  plt\n",
    "import pandas as pd"
   ]
  },
  {
   "cell_type": "code",
   "execution_count": null,
   "id": "964c425c-5adb-4fff-9646-7e3c6adb6273",
   "metadata": {},
   "outputs": [],
   "source": [
    "# Importar el data set\n",
    "%cd \"D:\\Repos Github\\machinelearning-az\\update\\Part 1 - Data Preprocessing\\Section 2 -------------------- Part 1 - Data Preprocessing --------------------/Python\"\n",
    "dataset = pd.read_csv('Data.csv')"
   ]
  },
  {
   "cell_type": "code",
   "execution_count": null,
   "id": "ed456a6c-3aa0-4e65-a00c-495d3d807d6d",
   "metadata": {},
   "outputs": [],
   "source": [
    "#Variable independiente\n",
    "X = dataset.iloc[:,:-1].values \n",
    "#Variable dependiente \n",
    "y= dataset.iloc[:,3].values "
   ]
  },
  {
   "cell_type": "code",
   "execution_count": null,
   "id": "ff9099e7-17a0-4412-8dcd-8d2700821dca",
   "metadata": {},
   "outputs": [],
   "source": [
    "# Tratamiento de los NAs\n",
    "from sklearn.impute import SimpleImputer #Como no queremos toda la librería sino sólo una parte. Imputer calcula los datos faltantes (NAs\n",
    "# Ahora creamos un objeto de esta clase (Imputer)\n",
    "imputer = SimpleImputer(missing_values=np.nan,strategy=\"mean\") #missing_values=np.nan puedo no ponerlo\n",
    "#strategy -> cómo voy a sustituir los valores desconocidos. En este caso media\n",
    "imputer.fit(X[:, 1:3])  # Aplicamos el ajuste a las columnas 1 y 2 (índices 1:3 porque el último no lo coge)\n",
    "X[:, 1:3] = imputer.transform(X[:, 1:3])  # Reemplazamos los valores nulos en las columnas seleccionadas. Tb vale imputer.fit_transform\n",
    "print(\"Datos de X después de manejar valores faltantes:\")\n",
    "print(X)"
   ]
  }
 ],
 "metadata": {
  "kernelspec": {
   "display_name": "Python (ML)",
   "language": "python",
   "name": "ml"
  },
  "language_info": {
   "codemirror_mode": {
    "name": "ipython",
    "version": 3
   },
   "file_extension": ".py",
   "mimetype": "text/x-python",
   "name": "python",
   "nbconvert_exporter": "python",
   "pygments_lexer": "ipython3",
   "version": "3.8.20"
  }
 },
 "nbformat": 4,
 "nbformat_minor": 5
}
