{
 "cells": [
  {
   "cell_type": "markdown",
   "id": "acbbc4c4-47d5-4f15-b153-c6c7863a9cb5",
   "metadata": {},
   "source": [
    "Plantilla de preprocesado - Lo que se hace siempre"
   ]
  },
  {
   "cell_type": "code",
   "execution_count": null,
   "id": "c3a8e1dd-6df8-4dd7-8230-40df15453bfe",
   "metadata": {},
   "outputs": [],
   "source": [
    "# Cómo importar las librerías\n",
    "import numpy as np\n",
    "import matplotlib.pyplot as  plt\n",
    "import pandas as pd"
   ]
  },
  {
   "cell_type": "code",
   "execution_count": null,
   "id": "34a324da-9e00-42e8-8b67-28930b1afbae",
   "metadata": {},
   "outputs": [],
   "source": [
    "# Importar el data set\n",
    "%cd \"D:\\Repos Github\\machinelearning-az\\update\\Part 1 - Data Preprocessing\\Section 2 -------------------- Part 1 - Data Preprocessing --------------------/Python\"\n",
    "dataset = pd.read_csv('Data.csv')"
   ]
  },
  {
   "cell_type": "code",
   "execution_count": null,
   "id": "25686c2f-50be-4ae3-baa0-6e446886c99b",
   "metadata": {},
   "outputs": [],
   "source": [
    "#Variable independiente = columnas Country + Age+ Salary \n",
    "#Variable dependiente = columna Purchased\n",
    "X = dataset.iloc[:,:-1].values \n",
    "#Todas las filas y todas las columnas salvo la última\n",
    "#.values porque queremos extraer los valores, no las posiciones\n"
   ]
  },
  {
   "cell_type": "code",
   "execution_count": null,
   "id": "63b37933-be5c-4a5c-a04c-50a6fe402967",
   "metadata": {},
   "outputs": [],
   "source": [
    "y= dataset.iloc[:,3].values #Selecciona tercera columna "
   ]
  },
  {
   "cell_type": "code",
   "execution_count": null,
   "id": "0dcfbb0b-3a8e-4db0-9995-31a8b887c139",
   "metadata": {},
   "outputs": [],
   "source": [
    "# Dividir el data set en conjunto de entrenamiento y conjunto de testing"
   ]
  },
  {
   "cell_type": "code",
   "execution_count": null,
   "id": "f148a7e8-fc29-489c-8481-3fb424aa9d65",
   "metadata": {},
   "outputs": [],
   "source": [
    "from sklearn.model_selection import train_test_split\n",
    "X_train, X_test, y_train, y_test = train_test_split(X, y, test_size = 0.2, random_state = 0)\n",
    "# x= variable independiente\n",
    "# y= variable dependiente\n",
    "# test_size =0.2 eserva ~20% de las filas para test y ~80% para train (redondea a un entero según el tamaño del dataset)\n",
    "# random_state=0 → fija la semilla del aleatorizador para que la misma partición se repita cada vez que ejecutes el código (reproducibilidad).\n",
    "# Devuelve:\n",
    "# X_train y y_train: datos para entrenar el modelo\n",
    "# X_test y y_test: datos nunca vistos que usarás para evaluar el modelo.\n",
    "# En clasificación, añade stratify=y para mantener la misma proporción de clases en train y test:"
   ]
  },
  {
   "cell_type": "code",
   "execution_count": null,
   "id": "aab298eb-72d8-4a6b-994c-21a3e1f6da97",
   "metadata": {},
   "outputs": [],
   "source": [
    "# Dividir el data set en conjunto de entrenamiento y conjunto de testing"
   ]
  },
  {
   "cell_type": "code",
   "execution_count": null,
   "id": "accc8ed7-02be-4243-8736-e998805c2e52",
   "metadata": {},
   "outputs": [],
   "source": [
    "from sklearn.model_selection import train_test_split\n",
    "X_train, X_test, y_train, y_test = train_test_split(X, y, test_size = 0.2, random_state = 0)\n",
    "# x= variable independiente\n",
    "# y= variable dependiente\n",
    "# test_size =0.2 eserva ~20% de las filas para test y ~80% para train (redondea a un entero según el tamaño del dataset)\n",
    "# random_state=0 → fija la semilla del aleatorizador para que la misma partición se repita cada vez que ejecutes el código (reproducibilidad).\n",
    "# Devuelve:\n",
    "# X_train y y_train: datos para entrenar el modelo\n",
    "# X_test y y_test: datos nunca vistos que usarás para evaluar el modelo.\n",
    "# En clasificación, añade stratify=y para mantener la misma proporción de clases en train y test:"
   ]
  }
 ],
 "metadata": {
  "kernelspec": {
   "display_name": "Python (ML)",
   "language": "python",
   "name": "ml"
  },
  "language_info": {
   "codemirror_mode": {
    "name": "ipython",
    "version": 3
   },
   "file_extension": ".py",
   "mimetype": "text/x-python",
   "name": "python",
   "nbconvert_exporter": "python",
   "pygments_lexer": "ipython3",
   "version": "3.8.20"
  }
 },
 "nbformat": 4,
 "nbformat_minor": 5
}
