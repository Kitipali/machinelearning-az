{
 "cells": [
  {
   "cell_type": "markdown",
   "id": "e93bd4e4-8543-4652-8fa6-fff78a32fb62",
   "metadata": {},
   "source": [
    "Plantilla de PreProcesado - Datos Categóricos"
   ]
  },
  {
   "cell_type": "code",
   "execution_count": null,
   "id": "63138514-5375-41cb-aa17-e8de31823e0e",
   "metadata": {},
   "outputs": [],
   "source": [
    "# Cómo importar las librerías\n",
    "import numpy as np\n",
    "import matplotlib.pyplot as  plt\n",
    "import pandas as pd"
   ]
  },
  {
   "cell_type": "code",
   "execution_count": null,
   "id": "08ef65fe-e5a3-428a-a930-9553412ffa58",
   "metadata": {},
   "outputs": [],
   "source": [
    "# Importar el data set\n",
    "%cd \"D:\\Repos Github\\machinelearning-az\\update\\Part 1 - Data Preprocessing\\Section 2 -------------------- Part 1 - Data Preprocessing --------------------/Python\"\n",
    "dataset = pd.read_csv('Data.csv')"
   ]
  },
  {
   "cell_type": "code",
   "execution_count": null,
   "id": "bb47f794-caf9-40e5-8bda-efca6257be93",
   "metadata": {},
   "outputs": [],
   "source": [
    "#Variable independiente\n",
    "X = dataset.iloc[:,:-1].values \n",
    "#Variable dependiente \n",
    "y= dataset.iloc[:,3].values "
   ]
  },
  {
   "cell_type": "code",
   "execution_count": null,
   "id": "055937b4-2d3f-4afa-93d9-86fc4146f5e7",
   "metadata": {},
   "outputs": [],
   "source": [
    "# Codifcar datos categóricos\n",
    "from sklearn.compose import ColumnTransformer\n",
    "from sklearn.preprocessing import OneHotEncoder"
   ]
  },
  {
   "cell_type": "code",
   "execution_count": null,
   "id": "b50ecfd0-fa5e-4f0f-8820-02f5d9caf8ac",
   "metadata": {},
   "outputs": [],
   "source": []
  }
 ],
 "metadata": {
  "kernelspec": {
   "display_name": "Python (ML)",
   "language": "python",
   "name": "ml"
  },
  "language_info": {
   "codemirror_mode": {
    "name": "ipython",
    "version": 3
   },
   "file_extension": ".py",
   "mimetype": "text/x-python",
   "name": "python",
   "nbconvert_exporter": "python",
   "pygments_lexer": "ipython3",
   "version": "3.8.20"
  }
 },
 "nbformat": 4,
 "nbformat_minor": 5
}
